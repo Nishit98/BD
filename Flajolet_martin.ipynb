{
 "cells": [
  {
   "cell_type": "code",
   "execution_count": 51,
   "id": "7dd6e2e1-3ea8-4454-9f6b-4b5bec6449ad",
   "metadata": {},
   "outputs": [],
   "source": [
    "def Hash_fun(x):\n",
    "    #hash function 3x + 7 mod 32\n",
    "    return (3 * x + 7)%32\n",
    "\n",
    "def Hash_fun2(x):\n",
    "    #hash function 3x + 7 mod 32\n",
    "    return (5 * x + 7)%32"
   ]
  },
  {
   "cell_type": "code",
   "execution_count": 3,
   "id": "c5fed89f-07b2-432f-8468-d834aa718e6f",
   "metadata": {},
   "outputs": [],
   "source": [
    "def til_length(bin_str):\n",
    "    return len(bin_str) - len(bin_str.rstrip('0'))"
   ]
  },
  {
   "cell_type": "code",
   "execution_count": 73,
   "id": "a283c506-98e8-407b-b43b-4db991786880",
   "metadata": {},
   "outputs": [
    {
     "name": "stdout",
     "output_type": "stream",
     "text": [
      "Element : 3 ,Hash : 16 ,Binary Hash : 10000 ,Tail_length : 4 Hash2 : 22 ,Binary Hash2 : 10110 ,Tail_length2 : 1\n",
      "Element : 1 ,Hash : 10 ,Binary Hash : 1010 ,Tail_length : 1 Hash2 : 12 ,Binary Hash2 : 1100 ,Tail_length2 : 2\n",
      "Element : 4 ,Hash : 19 ,Binary Hash : 10011 ,Tail_length : 0 Hash2 : 27 ,Binary Hash2 : 11011 ,Tail_length2 : 0\n",
      "Element : 1 ,Hash : 10 ,Binary Hash : 1010 ,Tail_length : 1 Hash2 : 12 ,Binary Hash2 : 1100 ,Tail_length2 : 2\n",
      "Element : 5 ,Hash : 22 ,Binary Hash : 10110 ,Tail_length : 1 Hash2 : 0 ,Binary Hash2 : 0 ,Tail_length2 : 1\n",
      "Element : 9 ,Hash : 2 ,Binary Hash : 10 ,Tail_length : 1 Hash2 : 20 ,Binary Hash2 : 10100 ,Tail_length2 : 2\n",
      "Element : 2 ,Hash : 13 ,Binary Hash : 1101 ,Tail_length : 0 Hash2 : 17 ,Binary Hash2 : 10001 ,Tail_length2 : 0\n",
      "Element : 6 ,Hash : 25 ,Binary Hash : 11001 ,Tail_length : 0 Hash2 : 5 ,Binary Hash2 : 101 ,Tail_length2 : 0\n",
      "Element : 5 ,Hash : 22 ,Binary Hash : 10110 ,Tail_length : 1 Hash2 : 0 ,Binary Hash2 : 0 ,Tail_length2 : 1\n",
      "Estimated number of distinct elements: 16\n"
     ]
    }
   ],
   "source": [
    "def flajolet_martin(stream):\n",
    "    max_tail_length = 0\n",
    "    for element in stream:\n",
    "        hash_valu = Hash_fun(element) #count the hash value\n",
    "        hash_valu2 = Hash_fun2(element)\n",
    "        \n",
    "        bin_str = format(hash_valu,'b')\n",
    "        bin_str2 = format(hash_valu2,'b')\n",
    "        #print(bin_str)\n",
    "\n",
    "        #calculate the tail length of bin_str\n",
    "        t_len = til_length(bin_str)\n",
    "        t_len2 = til_length(bin_str2)\n",
    "        #print(t_len)\n",
    "        \n",
    "        max_tail_length = max(max_tail_length,t_len)\n",
    "        max_tail_length2 = max(max_tail_length,t_len2)\n",
    "        print(\"Element :\",element,\",Hash :\",hash_valu , \",Binary Hash :\",bin_str ,\",Tail_length :\",t_len,\"Hash2 :\",hash_valu2 , \",Binary Hash2 :\",bin_str2 ,\",Tail_length2 :\",t_len2)\n",
    "\n",
    "    return (2 ** max_tail_length + 2** max_tail_length2)//2\n",
    "stream = [3,1,4,1,5,9,2,6,5]\n",
    "ans = flajolet_martin(stream)\n",
    "print(\"Estimated number of distinct elements:\",ans)"
   ]
  }
 ],
 "metadata": {
  "kernelspec": {
   "display_name": "Python 3 (ipykernel)",
   "language": "python",
   "name": "python3"
  },
  "language_info": {
   "codemirror_mode": {
    "name": "ipython",
    "version": 3
   },
   "file_extension": ".py",
   "mimetype": "text/x-python",
   "name": "python",
   "nbconvert_exporter": "python",
   "pygments_lexer": "ipython3",
   "version": "3.12.4"
  }
 },
 "nbformat": 4,
 "nbformat_minor": 5
}
