{
  "nbformat": 4,
  "nbformat_minor": 0,
  "metadata": {
    "colab": {
      "provenance": []
    },
    "kernelspec": {
      "name": "python3",
      "display_name": "Python 3"
    },
    "language_info": {
      "name": "python"
    }
  },
  "cells": [
    {
      "cell_type": "code",
      "execution_count": null,
      "metadata": {
        "colab": {
          "base_uri": "https://localhost:8080/"
        },
        "id": "uU3E2BeJdBTi",
        "outputId": "4067abef-f8c6-48b4-b147-5b396fc6a698"
      },
      "outputs": [
        {
          "output_type": "stream",
          "name": "stdout",
          "text": [
            "Requirement already satisfied: pyspark in /usr/local/lib/python3.10/dist-packages (3.5.3)\n",
            "Requirement already satisfied: py4j==0.10.9.7 in /usr/local/lib/python3.10/dist-packages (from pyspark) (0.10.9.7)\n"
          ]
        }
      ],
      "source": [
        "pip install pyspark"
      ]
    },
    {
      "cell_type": "code",
      "source": [
        "from pyspark.sql import SparkSession\n",
        "from pyspark.sql.functions import col, when\n",
        "\n",
        "# Initialize a SparkSession\n",
        "spark = SparkSession.builder.appName(\"CRUD Operations\").getOrCreate()\n",
        "\n",
        "# Example data to simulate a table\n",
        "data = [\n",
        "    (1, \"nishit\", 21),\n",
        "    (2, \"jay\", 23),\n",
        "    (3, \"Deep\", 22),\n",
        "    (4, \"Danish\", 25)\n",
        "]\n",
        "\n",
        "# Create schema\n",
        "columns = [\"id\", \"name\", \"age\"]\n",
        "\n",
        "# Create a DataFrame (This simulates the 'Create' operation for the table)\n",
        "df = spark.createDataFrame(data, columns)\n",
        "\n",
        "# 1. CREATE - Show the initial table\n",
        "print(\"Initial Table:\")\n",
        "df.show()\n",
        "\n",
        "# 2. READ - Read from the table (Select specific columns)\n",
        "print(\"Read Operation (Select 'name' and 'age'):\")\n",
        "df.select(\"name\", \"age\").show()\n",
        "\n",
        "# 3. UPDATE - Let's update the 'age' of a person with 'id' = 2 (Bob)\n",
        "print(\"Update jay age to 32:\")\n",
        "df_update = df.withColumn(\"age\", when(col(\"id\") == 2, 28).otherwise(col(\"age\")))\n",
        "df_update.show()\n",
        "\n",
        "# 4. DELETE - Let's delete the row where the name is 'Danny'\n",
        "print(\"Delete operation (Remove Danish):\")\n",
        "df_delete = df_update.filter(col(\"name\") != \"Danish\")\n",
        "df_delete.show()\n",
        "\n",
        "\n"
      ],
      "metadata": {
        "colab": {
          "base_uri": "https://localhost:8080/"
        },
        "id": "66uZ2o5kPiSY",
        "outputId": "e3403de8-673d-4fc0-d05f-011d048cf070"
      },
      "execution_count": 3,
      "outputs": [
        {
          "output_type": "stream",
          "name": "stdout",
          "text": [
            "Initial Table:\n",
            "+---+------+---+\n",
            "| id|  name|age|\n",
            "+---+------+---+\n",
            "|  1|nishit| 21|\n",
            "|  2|   jay| 23|\n",
            "|  3|  Deep| 22|\n",
            "|  4|Danish| 25|\n",
            "+---+------+---+\n",
            "\n",
            "Read Operation (Select 'name' and 'age'):\n",
            "+------+---+\n",
            "|  name|age|\n",
            "+------+---+\n",
            "|nishit| 21|\n",
            "|   jay| 23|\n",
            "|  Deep| 22|\n",
            "|Danish| 25|\n",
            "+------+---+\n",
            "\n",
            "Update jay age to 32:\n",
            "+---+------+---+\n",
            "| id|  name|age|\n",
            "+---+------+---+\n",
            "|  1|nishit| 21|\n",
            "|  2|   jay| 28|\n",
            "|  3|  Deep| 22|\n",
            "|  4|Danish| 25|\n",
            "+---+------+---+\n",
            "\n",
            "Delete operation (Remove Danish):\n",
            "+---+------+---+\n",
            "| id|  name|age|\n",
            "+---+------+---+\n",
            "|  1|nishit| 21|\n",
            "|  2|   jay| 28|\n",
            "|  3|  Deep| 22|\n",
            "+---+------+---+\n",
            "\n"
          ]
        }
      ]
    },
    {
      "cell_type": "code",
      "source": [
        "# Example 1: Basic SELECT statement\n",
        "df.select(\"name\", \"age\").show()\n",
        "\n",
        "# Example 2: WHERE clause with a condition\n",
        "df.filter(df[\"age\"] > 22).show()\n",
        "\n",
        "\n",
        "# Example 3: Using multiple conditions\n",
        "df.filter((df[\"age\"] > 20) & (df[\"name\"].like(\"n%\"))).show()\n",
        "\n",
        "# Example 4: ORDER BY clause\n",
        "df.orderBy(\"age\", ascending=False).show()\n",
        "\n",
        "# Example 5: GROUP BY and aggregate functions\n",
        "df.groupBy(\"age\").count().show()\n",
        "\n",
        "\n",
        "# Example 6: Using when() and otherwise() for conditional updates (similar to the previous update operation)\n",
        "df_updated = df.withColumn(\"age_group\",\n",
        "                           when(col(\"age\") < 23, \"Young\")\n",
        "                           .when(col(\"age\") < 25, \"Mid\")\n",
        "                           .otherwise(\"Old\"))\n",
        "\n",
        "df_updated.show()\n",
        "# Stopping the Spark session\n",
        "spark.stop()"
      ],
      "metadata": {
        "colab": {
          "base_uri": "https://localhost:8080/"
        },
        "id": "dsVyFImyRA7z",
        "outputId": "4a07bc9a-0d7a-44d2-b026-97a46799c159"
      },
      "execution_count": 5,
      "outputs": [
        {
          "output_type": "stream",
          "name": "stdout",
          "text": [
            "+------+---+\n",
            "|  name|age|\n",
            "+------+---+\n",
            "|nishit| 21|\n",
            "|   jay| 23|\n",
            "|  Deep| 22|\n",
            "|Danish| 25|\n",
            "+------+---+\n",
            "\n",
            "+---+------+---+\n",
            "| id|  name|age|\n",
            "+---+------+---+\n",
            "|  2|   jay| 23|\n",
            "|  4|Danish| 25|\n",
            "+---+------+---+\n",
            "\n",
            "+---+------+---+\n",
            "| id|  name|age|\n",
            "+---+------+---+\n",
            "|  1|nishit| 21|\n",
            "+---+------+---+\n",
            "\n",
            "+---+------+---+\n",
            "| id|  name|age|\n",
            "+---+------+---+\n",
            "|  4|Danish| 25|\n",
            "|  2|   jay| 23|\n",
            "|  3|  Deep| 22|\n",
            "|  1|nishit| 21|\n",
            "+---+------+---+\n",
            "\n",
            "+---+-----+\n",
            "|age|count|\n",
            "+---+-----+\n",
            "| 21|    1|\n",
            "| 23|    1|\n",
            "| 22|    1|\n",
            "| 25|    1|\n",
            "+---+-----+\n",
            "\n",
            "+---+------+---+---------+\n",
            "| id|  name|age|age_group|\n",
            "+---+------+---+---------+\n",
            "|  1|nishit| 21|    Young|\n",
            "|  2|   jay| 23|      Mid|\n",
            "|  3|  Deep| 22|    Young|\n",
            "|  4|Danish| 25|      Old|\n",
            "+---+------+---+---------+\n",
            "\n"
          ]
        }
      ]
    },
    {
      "cell_type": "code",
      "source": [
        "\n",
        "import pyspark\n",
        "from pyspark.sql import SparkSession\n",
        "spark = SparkSession.builder.master(\"local[1]\") \\\n",
        "                    .appName('SparkByExamples.com') \\\n",
        "                    .getOrCreate()\n",
        "\n",
        "data = [(\"James\",\"Smith\",\"IND\",\"MH\"),(\"Michael\",\"Rose\",\"IND\",\"MP\"), \\\n",
        "    (\"Robert\",\"Williams\",\"IND\",\"UP\"),(\"Maria\",\"Jones\",\"IND\",\"TN\") \\\n",
        "  ]\n",
        "columns=[\"firstname\",\"lastname\",\"country\",\"state\"]\n",
        "df=spark.createDataFrame(data=data,schema=columns)\n",
        "df.show()\n",
        "print(df.collect())\n",
        "\n",
        "\n",
        "states1=df.rdd.map(lambda x: x[3]).collect()\n",
        "print(states1)\n",
        "from collections import OrderedDict\n",
        "res = list(OrderedDict.fromkeys(states1))\n",
        "print(res)\n",
        "\n",
        "\n",
        "\n",
        "#Example 2\n",
        "states2=df.rdd.map(lambda x: x.state).collect()\n",
        "print(states2)\n",
        "\n",
        "states3=df.select(df.state).collect()\n",
        "print(states3)\n",
        "\n",
        "states4=df.select(df.state).rdd.flatMap(lambda x: x).collect()\n",
        "print(states4)\n",
        "\n",
        "states5=df.select(df.state).toPandas()['state']\n",
        "states6=list(states5)\n",
        "print(states6)\n",
        "\n",
        "pandDF=df.select(df.state,df.firstname).toPandas()\n",
        "print(list(pandDF['state']))\n",
        "print(list(pandDF['firstname']))"
      ],
      "metadata": {
        "colab": {
          "base_uri": "https://localhost:8080/"
        },
        "id": "wfhSLWrRdSGy",
        "outputId": "a764fc8c-636c-4964-9275-e94e1b439c5b"
      },
      "execution_count": 1,
      "outputs": [
        {
          "output_type": "stream",
          "name": "stdout",
          "text": [
            "+---------+--------+-------+-----+\n",
            "|firstname|lastname|country|state|\n",
            "+---------+--------+-------+-----+\n",
            "|    James|   Smith|    IND|   MH|\n",
            "|  Michael|    Rose|    IND|   MP|\n",
            "|   Robert|Williams|    IND|   UP|\n",
            "|    Maria|   Jones|    IND|   TN|\n",
            "+---------+--------+-------+-----+\n",
            "\n",
            "[Row(firstname='James', lastname='Smith', country='IND', state='MH'), Row(firstname='Michael', lastname='Rose', country='IND', state='MP'), Row(firstname='Robert', lastname='Williams', country='IND', state='UP'), Row(firstname='Maria', lastname='Jones', country='IND', state='TN')]\n",
            "['MH', 'MP', 'UP', 'TN']\n",
            "['MH', 'MP', 'UP', 'TN']\n",
            "['MH', 'MP', 'UP', 'TN']\n",
            "[Row(state='MH'), Row(state='MP'), Row(state='UP'), Row(state='TN')]\n",
            "['MH', 'MP', 'UP', 'TN']\n",
            "['MH', 'MP', 'UP', 'TN']\n",
            "['MH', 'MP', 'UP', 'TN']\n",
            "['James', 'Michael', 'Robert', 'Maria']\n"
          ]
        }
      ]
    }
  ]
}