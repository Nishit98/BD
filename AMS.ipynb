{
 "cells": [
  {
   "cell_type": "code",
   "execution_count": 35,
   "id": "e56088f0-019a-41ed-8d5d-020950d67b42",
   "metadata": {},
   "outputs": [
    {
     "name": "stdout",
     "output_type": "stream",
     "text": [
      "5\n",
      "4\n",
      "4\n",
      "191.66666666666666\n"
     ]
    }
   ],
   "source": [
    "import random \n",
    "\n",
    "def AMS(stream,x_values):\n",
    "    n = len(stream)\n",
    "    sum_squared_estimates = 0\n",
    "    for x in x_values:\n",
    "        #select the element fo x\n",
    "        r = stream[x - 1] \n",
    "        #count the number of r repeted in stream\n",
    "        count_r = stream.count(r)\n",
    "        print(count_r)\n",
    "        sum_squared_estimates += n * (2*count_r - 1)\n",
    "    return sum_squared_estimates / len(x_values)\n",
    "\n",
    "random_stream = [7, 10, 6, 8, 8, 6, 7, 6, 2, 3, 7, 9, 4, 8, 1, 7, 10, 8, 1, 9, 6, 5, 7, 9, 5]\n",
    "x_values = [1,3,5]\n",
    "\n",
    "surprise_number = AMS(random_stream,x_values)\n",
    "print(surprise_number)"
   ]
  }
 ],
 "metadata": {
  "kernelspec": {
   "display_name": "Python 3 (ipykernel)",
   "language": "python",
   "name": "python3"
  },
  "language_info": {
   "codemirror_mode": {
    "name": "ipython",
    "version": 3
   },
   "file_extension": ".py",
   "mimetype": "text/x-python",
   "name": "python",
   "nbconvert_exporter": "python",
   "pygments_lexer": "ipython3",
   "version": "3.12.4"
  }
 },
 "nbformat": 4,
 "nbformat_minor": 5
}
