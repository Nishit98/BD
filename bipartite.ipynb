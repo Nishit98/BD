{
 "cells": [
  {
   "cell_type": "code",
   "execution_count": 33,
   "id": "d3cf3d68-09e8-45ae-b6cf-017d6e6d85b8",
   "metadata": {},
   "outputs": [],
   "source": [
    "import matplotlib.pyplot as plt\n",
    "import networkx as nx\n",
    "from networkx.algorithms import bipartite"
   ]
  },
  {
   "cell_type": "code",
   "execution_count": 35,
   "id": "55cd9e83-0a3f-49e9-a822-4120bed83655",
   "metadata": {},
   "outputs": [
    {
     "name": "stdout",
     "output_type": "stream",
     "text": [
      "IS the Graph bipartite ? True\n",
      "{(1, 'a'), (3, 'c'), (2, 'b')}\n"
     ]
    },
    {
     "data": {
      "image/png": "[encoded data removed]",
      "text/plain": [
       "<Figure size 640x480 with 1 Axes>"
      ]
     },
     "metadata": {},
     "output_type": "display_data"
    }
   ],
   "source": [
    "def create_bipartite_graph():\n",
    "    B = nx.Graph()\n",
    "    top_nodes = {1,2,3}\n",
    "    bottom_nodes = {'a','b','c'}\n",
    "    B.add_nodes_from(top_nodes,bipartite=0)\n",
    "    B.add_nodes_from(bottom_nodes,bipartite=1)\n",
    "    \n",
    "    #add edges between nodes in the two sets\n",
    "    edges = [(1,'a'),(1,'b'),(2,'b'),(3,'c')]\n",
    "    B.add_edges_from(edges)\n",
    "    \n",
    "    return B , top_nodes , bottom_nodes\n",
    "\n",
    "def greedy_maximum_matching(B , top_nodes , bottom_nodes):\n",
    "    matching = set() #to store mathcing pair\n",
    "    matched_nodes = set() #to track matched pairs \n",
    "    for u , v in B.edges():\n",
    "        if u not in matched_nodes and v not in matched_nodes:\n",
    "            matching.add((u,v))\n",
    "            matched_nodes.add(u)\n",
    "            matched_nodes.add(v)\n",
    "    return matching\n",
    "#step -1 :\n",
    "B , top_nodes , bottom_nodes = create_bipartite_graph()\n",
    "\n",
    "#step-2:\n",
    "is_bipartite = bipartite.is_bipartite(B)\n",
    "print(\"IS the Graph bipartite ?\",is_bipartite)\n",
    "\n",
    "#step-3: greedy maximum matching \n",
    "if is_bipartite:\n",
    "    matching = greedy_maximum_matching(B, top_nodes , bottom_nodes)\n",
    "    print(matching)\n",
    "    #plot\n",
    "    pos = nx.bipartite_layout(B , top_nodes)\n",
    "    edge_colors = ['red' if (u,v) in matching or (v,u) in matching else 'black' for u,v in B.edges()]\n",
    "    nx.draw(B,pos,with_labels=True,node_color='lightblue',node_size=2000 , edge_color = edge_colors)\n",
    "    plt.show()"
   ]
  }
 ],
 "metadata": {
  "kernelspec": {
   "display_name": "Python 3 (ipykernel)",
   "language": "python",
   "name": "python3"
  },
  "language_info": {
   "codemirror_mode": {
    "name": "ipython",
    "version": 3
   },
   "file_extension": ".py",
   "mimetype": "text/x-python",
   "name": "python",
   "nbconvert_exporter": "python",
   "pygments_lexer": "ipython3",
   "version": "3.12.4"
  }
 },
 "nbformat": 4,
 "nbformat_minor": 5
}
