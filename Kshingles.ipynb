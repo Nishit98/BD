{
 "cells": [
  {
   "cell_type": "code",
   "execution_count": 44,
   "id": "644ca43f-c0d7-4fab-b4f4-33fa895f451e",
   "metadata": {},
   "outputs": [],
   "source": [
    "import string\n",
    "import numpy as np\n",
    "import pandas as pd\n",
    "\n",
    "file1 = open(\"file1.txt\",\"r\")\n",
    "text1 = file1.read()\n",
    "\n",
    "file2 = open(\"file2.txt\",\"r\")\n",
    "text2 = file2.read()\n",
    "\n",
    "file3 = open(\"file3.txt\",\"r\")\n",
    "text3 = file3.read()"
   ]
  },
  {
   "cell_type": "code",
   "execution_count": 50,
   "id": "0df422b5-aeb0-41fc-8195-04dc4f263c33",
   "metadata": {},
   "outputs": [],
   "source": [
    "def Generate_k_shingles(text,k):\n",
    "    translator=str.maketrans('','',string.punctuation)\n",
    "    cleaned_text=text.translate(translator)\n",
    "    words = cleaned_text.split()\n",
    "    k_shingles = [' '.join(words[i:i+k]) for i in range(len(words)-k+1)]\n",
    "    return k_shingles\n",
    "\n",
    "shingles1 = Generate_k_shingles(text1,5)\n",
    "shingles2 = Generate_k_shingles(text2,5)\n",
    "shingles3 = Generate_k_shingles(text3,5)\n",
    "\n",
    "\n",
    "all_shingles = shingles1+shingles2+shingles3\n",
    "unique_shingles = list(set(all_shingles))\n",
    "#print(unique_shingles)"
   ]
  },
  {
   "cell_type": "code",
   "execution_count": 62,
   "id": "d144a312-79d1-426b-9dab-1b3f8424799c",
   "metadata": {},
   "outputs": [
    {
     "name": "stdout",
     "output_type": "stream",
     "text": [
      "                                       Row  Doc1  Doc2  Doc3\n",
      "of skates either wheeled or              0   0.0   0.0   1.0\n",
      "of British influence outside the         1   0.0   1.0   0.0\n",
      "include lacrosse hurling camogie and     2   0.0   0.0   1.0\n",
      "team Players using only their            3   0.0   1.0   0.0\n",
      "ball or disk into a                      4   0.0   0.0   1.0\n",
      "...                                    ...   ...   ...   ...\n",
      "floor hockey is not a                 1217   0.0   0.0   1.0\n",
      "involve to varying degrees kicking    1218   0.0   1.0   0.0\n",
      "the object of play either             1219   0.0   0.0   1.0\n",
      "limited overs cricket they wear       1220   1.0   0.0   0.0\n",
      "the ball towards the strikers         1221   1.0   0.0   0.0\n",
      "\n",
      "[1222 rows x 4 columns]\n"
     ]
    }
   ],
   "source": [
    "#incidence_matrix \n",
    "incidence_matrix = np.zeros((len(unique_shingles),3))\n",
    "#print(incidence_matrix)\n",
    "\n",
    "for i , shingle in enumerate(unique_shingles):\n",
    "    if shingle in shingles1:\n",
    "        incidence_matrix[i,0] = 1\n",
    "    if shingle in shingles2:\n",
    "        incidence_matrix[i,1] = 1\n",
    "    if shingle in shingles3:\n",
    "        incidence_matrix[i,2] = 1\n",
    "\n",
    "incidence_df = pd.DataFrame(incidence_matrix, index = unique_shingles , columns = [\"Doc1\",\"Doc2\",\"Doc3\"])\n",
    "incidence_df.insert(0,\"Row\",range(0,len(unique_shingles)))\n",
    "\n",
    "print(incidence_df)"
   ]
  },
  {
   "cell_type": "code",
   "execution_count": 68,
   "id": "1e56c6e3-0c42-4569-9717-0741ccb62f2f",
   "metadata": {},
   "outputs": [
    {
     "name": "stdout",
     "output_type": "stream",
     "text": [
      "                                       Row  Doc1  Doc2  Doc3   h1   h2\n",
      "their body to move the                 999   0.0   1.0   0.0    0    3\n",
      "each of these sports two               499   0.0   0.0   1.0    0    3\n",
      "of skates either wheeled or              0   0.0   0.0   1.0    1    5\n",
      "strikers goal is to hit               1000   1.0   0.0   0.0    1    5\n",
      "Canadian who codified the rules        500   0.0   0.0   1.0    1    5\n",
      "...                                    ...   ...   ...   ...  ...  ...\n",
      "and 18 players some variations         496   0.0   1.0   0.0  497  497\n",
      "or line being defended by              997   0.0   1.0   0.0  498  499\n",
      "becoming the first of many             497   0.0   1.0   0.0  498  499\n",
      "used Sports commonly called football   998   0.0   1.0   0.0  499    1\n",
      "soccer in Australia Canada South       498   0.0   1.0   0.0  499    1\n",
      "\n",
      "[1222 rows x 6 columns]\n"
     ]
    }
   ],
   "source": [
    "#hash Function\n",
    "incidence_df['h1'] = (incidence_df['Row'] + 1) % 500\n",
    "incidence_df['h2'] = (2 * incidence_df['Row'] + 5) %500\n",
    "\n",
    "incidence_df = incidence_df.sort_values(by = ['h1','h2'])\n",
    "print(incidence_df)"
   ]
  },
  {
   "cell_type": "code",
   "execution_count": 84,
   "id": "ec079d47-ad6d-408f-ad62-858e0175a671",
   "metadata": {},
   "outputs": [
    {
     "name": "stdout",
     "output_type": "stream",
     "text": [
      "[[inf inf inf]\n",
      " [inf inf inf]]\n",
      "\n",
      "signature_matrix :\n",
      "\n",
      "    Document 1  Document 2  Document 3\n",
      "h1         1.0         0.0         0.0\n",
      "h2         5.0         1.0         3.0\n"
     ]
    }
   ],
   "source": [
    "#signature_matrix \n",
    "\n",
    "num_hash = 2\n",
    "num_doc = 3\n",
    "\n",
    "signature_matrix = np.full((num_hash,num_doc),np.inf)\n",
    "print(signature_matrix)\n",
    "\n",
    "for i in range(len(unique_shingles)):\n",
    "    if incidence_df.iloc[i, 1] == 1:  # Document 1\n",
    "        signature_matrix[0, 0] = min(signature_matrix[0, 0], incidence_df.iloc[i]['h1'])\n",
    "        signature_matrix[1, 0] = min(signature_matrix[1, 0], incidence_df.iloc[i]['h2'])\n",
    "    if incidence_df.iloc[i, 2] == 1:  # Document 2\n",
    "        signature_matrix[0, 1] = min(signature_matrix[0, 1], incidence_df.iloc[i]['h1'])\n",
    "        signature_matrix[1, 1] = min(signature_matrix[1, 1], incidence_df.iloc[i]['h2'])\n",
    "    if incidence_df.iloc[i, 3] == 1:  # Document 3\n",
    "        signature_matrix[0, 2] = min(signature_matrix[0, 2], incidence_df.iloc[i]['h1'])\n",
    "        signature_matrix[1, 2] = min(signature_matrix[1, 2], incidence_df.iloc[i]['h2'])\n",
    "#print(signature_matrix)\n",
    "\n",
    "signature_df = pd.DataFrame(signature_matrix, index=['h1', 'h2'], columns=[\"Document 1\", \"Document 2\", \"Document 3\"])\n",
    "print(\"\\nsignature_matrix :\\n\")\n",
    "print(signature_df)"
   ]
  }
 ],
 "metadata": {
  "kernelspec": {
   "display_name": "Python 3 (ipykernel)",
   "language": "python",
   "name": "python3"
  },
  "language_info": {
   "codemirror_mode": {
    "name": "ipython",
    "version": 3
   },
   "file_extension": ".py",
   "mimetype": "text/x-python",
   "name": "python",
   "nbconvert_exporter": "python",
   "pygments_lexer": "ipython3",
   "version": "3.12.4"
  }
 },
 "nbformat": 4,
 "nbformat_minor": 5
}
