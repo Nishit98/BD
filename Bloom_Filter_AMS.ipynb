{
 "cells": [
  {
   "cell_type": "code",
   "execution_count": 7,
   "id": "7a308fc2-629b-4e8f-bf5c-9f2002da6ff5",
   "metadata": {},
   "outputs": [],
   "source": [
    "import numpy as np"
   ]
  },
  {
   "cell_type": "code",
   "execution_count": 62,
   "id": "ab4f589b-f91c-4c55-85ec-04cf2d86475a",
   "metadata": {},
   "outputs": [
    {
     "name": "stdin",
     "output_type": "stream",
     "text": [
      "Enter size or Lrngth of Bloom Filter: 10\n"
     ]
    },
    {
     "name": "stdout",
     "output_type": "stream",
     "text": [
      "Initial filter :\n",
      " [0 0 0 0 0 0 0 0 0 0]\n"
     ]
    },
    {
     "name": "stdin",
     "output_type": "stream",
     "text": [
      "Enter the no. of Element to be Inserted : 5\n",
      "Enter Elements : 8\n",
      "Enter Elements : 14\n",
      "Enter Elements : 25\n",
      "Enter Elements : 17\n",
      "Enter Elements : 20\n"
     ]
    },
    {
     "name": "stdout",
     "output_type": "stream",
     "text": [
      "Element To be Insert : [8, 14, 25, 17, 20]\n"
     ]
    }
   ],
   "source": [
    "#bloom Filter\n",
    "#size of bloom filter\n",
    "n = int(input('Enter size or Lrngth of Bloom Filter:'))\n",
    "bloom = np.zeros(n,dtype=int)\n",
    "print(\"Initial filter :\\n\",bloom)\n",
    "\n",
    "insert_no = int(input('Enter the no. of Element to be Inserted :'))\n",
    "insert_ele = []\n",
    "for i in range(insert_no):\n",
    "    insert_ele.append(int(input(\"Enter Elements :\")))\n",
    "\n",
    "print(\"Element To be Insert :\" , insert_ele)"
   ]
  },
  {
   "cell_type": "code",
   "execution_count": 70,
   "id": "f257aab0-5cca-4c34-a380-2ab71b9b5cc1",
   "metadata": {},
   "outputs": [
    {
     "name": "stdout",
     "output_type": "stream",
     "text": [
      "Bloom Filter After Insertion: \n",
      " [1 0 1 1 0 1 1 1 1 1]\n"
     ]
    },
    {
     "name": "stdin",
     "output_type": "stream",
     "text": [
      "Enter No. of element to be Search : 3\n",
      "Enter the Element to be Search : 7\n",
      "Enter the Element to be Search : 5\n",
      "Enter the Element to be Search : 26\n"
     ]
    },
    {
     "name": "stdout",
     "output_type": "stream",
     "text": [
      "\n",
      "List Of the Element To be Search :\n",
      " [7, 5, 26]\n",
      "7 Is Present in the Filter\n",
      "5 Is Present in the Filter\n",
      "26 Not present\n"
     ]
    }
   ],
   "source": [
    "def Hash1(x):\n",
    "    return (x+1)%13\n",
    "\n",
    "def Hash2(x):\n",
    "    return (2*x+5)%13\n",
    "\n",
    "for i in insert_ele:\n",
    "    bloom[Hash1(i)] = 1\n",
    "    bloom[Hash2(i)] = 1\n",
    "\n",
    "print(\"Bloom Filter After Insertion: \\n\",bloom)\n",
    "\n",
    "#check \n",
    "n1 = int(input(\"Enter No. of element to be Search :\"))\n",
    "search_list =[]\n",
    "for i in range(n1):\n",
    "    search_list.append(int(input(\"Enter the Element to be Search :\")))\n",
    "print(\"\\nList Of the Element To be Search :\\n\",search_list)\n",
    "\n",
    "for i in search_list:\n",
    "    if bloom[Hash1(i)] ==1 and bloom[Hash2(i)] ==1:\n",
    "        print(i,\"Is Present in the Filter\")\n",
    "    else :\n",
    "        print(i,\"Not present\")"
   ]
  },
  {
   "cell_type": "code",
   "execution_count": 72,
   "id": "2ccda0f7-a231-495a-9005-8b3183c9d203",
   "metadata": {},
   "outputs": [
    {
     "name": "stdout",
     "output_type": "stream",
     "text": [
      "5\n",
      "4\n",
      "4\n",
      "191.66666666666666\n"
     ]
    }
   ],
   "source": [
    "import random \n",
    "\n",
    "def AMS(stream,x_values):\n",
    "    n = len(stream)\n",
    "    sum_squared_estimates = 0\n",
    "    for x in x_values:\n",
    "        #select the element fo x\n",
    "        r = stream[x - 1] \n",
    "        #count the number of r repeted in stream\n",
    "        count_r = stream.count(r)\n",
    "        print(count_r)\n",
    "        sum_squared_estimates += n * (2*count_r - 1)\n",
    "    return sum_squared_estimates / len(x_values)\n",
    "\n",
    "random_stream = [7, 10, 6, 8, 8, 6, 7, 6, 2, 3, 7, 9, 4, 8, 1, 7, 10, 8, 1, 9, 6, 5, 7, 9, 5]\n",
    "x_values = [1,3,5]\n",
    "\n",
    "surprise_number = AMS(random_stream,x_values)\n",
    "print(surprise_number)"
   ]
  }
 ],
 "metadata": {
  "kernelspec": {
   "display_name": "Python 3 (ipykernel)",
   "language": "python",
   "name": "python3"
  },
  "language_info": {
   "codemirror_mode": {
    "name": "ipython",
    "version": 3
   },
   "file_extension": ".py",
   "mimetype": "text/x-python",
   "name": "python",
   "nbconvert_exporter": "python",
   "pygments_lexer": "ipython3",
   "version": "3.12.4"
  }
 },
 "nbformat": 4,
 "nbformat_minor": 5
}
