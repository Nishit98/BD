{
 "cells": [
  {
   "cell_type": "code",
   "execution_count": 7,
   "id": "7a308fc2-629b-4e8f-bf5c-9f2002da6ff5",
   "metadata": {},
   "outputs": [],
   "source": [
    "import numpy as np"
   ]
  },
  {
   "cell_type": "code",
   "execution_count": 41,
   "id": "ab4f589b-f91c-4c55-85ec-04cf2d86475a",
   "metadata": {},
   "outputs": [
    {
     "name": "stdin",
     "output_type": "stream",
     "text": [
      "Enter size or Lrngth of Bloom Filter: 10\n"
     ]
    },
    {
     "name": "stdout",
     "output_type": "stream",
     "text": [
      "Initial filter :\n",
      " [0 0 0 0 0 0 0 0 0 0]\n"
     ]
    }
   ],
   "source": [
    "#bloom Filter\n",
    "#size of bloom filter\n",
    "n = int(input('Enter size or Lrngth of Bloom Filter:'))\n",
    "bloom = np.zeros(n,dtype=int)\n",
    "print(\"Initial filter :\\n\",bloom)"
   ]
  },
  {
   "cell_type": "code",
   "execution_count": 43,
   "id": "fc7e0928-ef6d-4f89-b2ae-153057aff4b2",
   "metadata": {},
   "outputs": [
    {
     "name": "stdin",
     "output_type": "stream",
     "text": [
      "Enter the no. of Element to be Inserted : 5\n",
      "Enter Elements : 8\n",
      "Enter Elements : 14\n",
      "Enter Elements : 25\n",
      "Enter Elements : 17\n",
      "Enter Elements : 20\n"
     ]
    },
    {
     "name": "stdout",
     "output_type": "stream",
     "text": [
      "Element To be Insert : [8, 14, 25, 17, 20]\n"
     ]
    }
   ],
   "source": [
    "insert_no = int(input('Enter the no. of Element to be Inserted :'))\n",
    "insert_ele = []\n",
    "for i in range(insert_no):\n",
    "    insert_ele.append(int(input(\"Enter Elements :\")))\n",
    "\n",
    "print(\"Element To be Insert :\" , insert_ele)"
   ]
  },
  {
   "cell_type": "code",
   "execution_count": 45,
   "id": "f257aab0-5cca-4c34-a380-2ab71b9b5cc1",
   "metadata": {},
   "outputs": [],
   "source": [
    "def Hash1(x):\n",
    "    return (x+1)%13\n",
    "\n",
    "def Hash2(x):\n",
    "    return (2*x+5)%13"
   ]
  },
  {
   "cell_type": "code",
   "execution_count": 49,
   "id": "12f8fc2e-da1a-442d-bde2-908458cfd42f",
   "metadata": {},
   "outputs": [
    {
     "name": "stdout",
     "output_type": "stream",
     "text": [
      "Bloom Filter After Insertion: \n",
      " [1 0 1 1 0 1 1 1 1 1]\n"
     ]
    }
   ],
   "source": [
    "for i in insert_ele:\n",
    "    index1 = Hash1(i)\n",
    "    index2 = Hash2(i)\n",
    "    bloom[index1] = 1\n",
    "    bloom[index2] = 1\n",
    "\n",
    "print(\"Bloom Filter After Insertion: \\n\",bloom)"
   ]
  },
  {
   "cell_type": "code",
   "execution_count": 53,
   "id": "9c16c71f-b9c6-4a5e-be87-6ce9d93f2fbe",
   "metadata": {},
   "outputs": [
    {
     "name": "stdin",
     "output_type": "stream",
     "text": [
      "Enter No. of element to be Search : 3\n",
      "Enter the Element to be Search : 7\n",
      "Enter the Element to be Search : 5\n",
      "Enter the Element to be Search : 26\n"
     ]
    },
    {
     "name": "stdout",
     "output_type": "stream",
     "text": [
      "\n",
      "List Of the Element To be Search :\n",
      " [7, 5, 26]\n"
     ]
    }
   ],
   "source": [
    "#check \n",
    "n1 = int(input(\"Enter No. of element to be Search :\"))\n",
    "search_list =[]\n",
    "for i in range(n1):\n",
    "    search_list.append(int(input(\"Enter the Element to be Search :\")))\n",
    "print(\"\\nList Of the Element To be Search :\\n\",search_list)"
   ]
  },
  {
   "cell_type": "code",
   "execution_count": 55,
   "id": "ae924e88-65ae-44ae-b164-a28e13618f99",
   "metadata": {},
   "outputs": [
    {
     "name": "stdout",
     "output_type": "stream",
     "text": [
      "7 Is Present in the Filter\n",
      "5 Is Present in the Filter\n",
      "26 Not present\n"
     ]
    }
   ],
   "source": [
    "for i in search_list:\n",
    "    if bloom[Hash1(i)] ==1 and bloom[Hash2(i)] ==1:\n",
    "        print(i,\"Is Present in the Filter\")\n",
    "    else :\n",
    "        print(i,\"Not present\")"
   ]
  }
 ],
 "metadata": {
  "kernelspec": {
   "display_name": "Python 3 (ipykernel)",
   "language": "python",
   "name": "python3"
  },
  "language_info": {
   "codemirror_mode": {
    "name": "ipython",
    "version": 3
   },
   "file_extension": ".py",
   "mimetype": "text/x-python",
   "name": "python",
   "nbconvert_exporter": "python",
   "pygments_lexer": "ipython3",
   "version": "3.12.4"
  }
 },
 "nbformat": 4,
 "nbformat_minor": 5
}
